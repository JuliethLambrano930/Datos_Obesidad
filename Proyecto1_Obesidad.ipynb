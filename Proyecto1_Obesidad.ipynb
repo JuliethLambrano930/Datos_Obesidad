{
 "cells": [
  {
   "cell_type": "markdown",
   "metadata": {},
   "source": [
    "Información de UCI\n",
    "\n",
    "UCI dataset_repository es el repostorio de datos de la Universidad de California Irvine, con los datasets más populares para el aprendizaje automático. \n",
    "\n",
    "Enlace: [UCI Machine Learning Repository](https://archive.ics.uci.edu/ml/index.php)"
   ]
  },
  {
   "cell_type": "code",
   "execution_count": 1,
   "metadata": {},
   "outputs": [],
   "source": [
    "## instalamos ucimlrepo\n",
    "#!pip install ucimlrepo"
   ]
  },
  {
   "cell_type": "code",
   "execution_count": 7,
   "metadata": {},
   "outputs": [
    {
     "name": "stdout",
     "output_type": "stream",
     "text": [
      "{'uci_id': 544, 'name': 'Estimation of obesity levels based on eating habits and physical condition ', 'repository_url': 'https://archive.ics.uci.edu/dataset/544/estimation+of+obesity+levels+based+on+eating+habits+and+physical+condition', 'data_url': 'https://archive.ics.uci.edu/static/public/544/data.csv', 'abstract': 'This dataset include data for the estimation of obesity levels in individuals from the countries of Mexico, Peru and Colombia, based on their eating habits and physical condition. ', 'area': 'Health and Medicine', 'tasks': ['Classification', 'Regression', 'Clustering'], 'characteristics': ['Multivariate'], 'num_instances': 2111, 'num_features': 16, 'feature_types': ['Integer'], 'demographics': ['Gender', 'Age'], 'target_col': ['NObeyesdad'], 'index_col': None, 'has_missing_values': 'no', 'missing_values_symbol': None, 'year_of_dataset_creation': 2019, 'last_updated': 'Tue Dec 19 2023', 'dataset_doi': '10.24432/C5H31Z', 'creators': [], 'intro_paper': {'title': 'Dataset for estimation of obesity levels based on eating habits and physical condition in individuals from Colombia, Peru and Mexico', 'authors': 'Fabio Mendoza Palechor, Alexis De la Hoz Manotas', 'published_in': 'Data in Brief', 'year': 2019, 'url': 'https://www.semanticscholar.org/paper/35b40bacd2ffa9370885b7a3004d88995fd1d011', 'doi': '10.1016/j.dib.2019.104344'}, 'additional_info': {'summary': 'This dataset include data for the estimation of obesity levels in individuals from the countries of Mexico, Peru and Colombia, based on their eating habits and physical condition. The data contains 17 attributes and 2111 records, the records are labeled with the class variable NObesity (Obesity Level), that allows classification of the data using the values of Insufficient Weight, Normal Weight, Overweight Level I, Overweight Level II, Obesity Type I, Obesity Type II and Obesity Type III. 77% of the data was generated synthetically using the Weka tool and the SMOTE filter, 23% of the data was collected directly from users through a web platform.', 'purpose': None, 'funded_by': None, 'instances_represent': None, 'recommended_data_splits': None, 'sensitive_data': None, 'preprocessing_description': None, 'variable_info': 'Read the article (https://doi.org/10.1016/j.dib.2019.104344) to see the description of the attributes.', 'citation': None}}\n",
      "                              name     role         type demographic  \\\n",
      "0                           Gender  Feature  Categorical      Gender   \n",
      "1                              Age  Feature   Continuous         Age   \n",
      "2                           Height  Feature   Continuous        None   \n",
      "3                           Weight  Feature   Continuous        None   \n",
      "4   family_history_with_overweight  Feature       Binary        None   \n",
      "5                             FAVC  Feature       Binary        None   \n",
      "6                             FCVC  Feature      Integer        None   \n",
      "7                              NCP  Feature   Continuous        None   \n",
      "8                             CAEC  Feature  Categorical        None   \n",
      "9                            SMOKE  Feature       Binary        None   \n",
      "10                            CH2O  Feature   Continuous        None   \n",
      "11                             SCC  Feature       Binary        None   \n",
      "12                             FAF  Feature   Continuous        None   \n",
      "13                             TUE  Feature      Integer        None   \n",
      "14                            CALC  Feature  Categorical        None   \n",
      "15                          MTRANS  Feature  Categorical        None   \n",
      "16                      NObeyesdad   Target  Categorical        None   \n",
      "\n",
      "                                          description units missing_values  \n",
      "0                                                None  None             no  \n",
      "1                                                None  None             no  \n",
      "2                                                None  None             no  \n",
      "3                                                None  None             no  \n",
      "4   Has a family member suffered or suffers from o...  None             no  \n",
      "5            Do you eat high caloric food frequently?  None             no  \n",
      "6        Do you usually eat vegetables in your meals?  None             no  \n",
      "7              How many main meals do you have daily?  None             no  \n",
      "8                  Do you eat any food between meals?  None             no  \n",
      "9                                       Do you smoke?  None             no  \n",
      "10                 How much water do you drink daily?  None             no  \n",
      "11         Do you monitor the calories you eat daily?  None             no  \n",
      "12           How often do you have physical activity?  None             no  \n",
      "13  How much time do you use technological devices...  None             no  \n",
      "14                    How often do you drink alcohol?  None             no  \n",
      "15           Which transportation do you usually use?  None             no  \n",
      "16                                      Obesity level  None             no  \n"
     ]
    }
   ],
   "source": [
    "from ucimlrepo import fetch_ucirepo \n",
    "  \n",
    "# fetch dataset \n",
    "estimation_of_obesity_levels_based_on_eating_habits_and_physical_condition = fetch_ucirepo(id=544) \n",
    "  \n",
    "# data (as pandas dataframes) \n",
    "X = estimation_of_obesity_levels_based_on_eating_habits_and_physical_condition.data.features \n",
    "y = estimation_of_obesity_levels_based_on_eating_habits_and_physical_condition.data.targets \n",
    "  \n",
    "# metadata \n",
    "print(estimation_of_obesity_levels_based_on_eating_habits_and_physical_condition.metadata) \n",
    "  \n",
    "# variable information \n",
    "print(estimation_of_obesity_levels_based_on_eating_habits_and_physical_condition.variables) \n"
   ]
  },
  {
   "cell_type": "code",
   "execution_count": 2,
   "metadata": {},
   "outputs": [
    {
     "data": {
      "text/html": [
       "<div>\n",
       "<style scoped>\n",
       "    .dataframe tbody tr th:only-of-type {\n",
       "        vertical-align: middle;\n",
       "    }\n",
       "\n",
       "    .dataframe tbody tr th {\n",
       "        vertical-align: top;\n",
       "    }\n",
       "\n",
       "    .dataframe thead th {\n",
       "        text-align: right;\n",
       "    }\n",
       "</style>\n",
       "<table border=\"1\" class=\"dataframe\">\n",
       "  <thead>\n",
       "    <tr style=\"text-align: right;\">\n",
       "      <th></th>\n",
       "      <th>name</th>\n",
       "      <th>role</th>\n",
       "      <th>type</th>\n",
       "      <th>demographic</th>\n",
       "      <th>description</th>\n",
       "      <th>units</th>\n",
       "      <th>missing_values</th>\n",
       "    </tr>\n",
       "  </thead>\n",
       "  <tbody>\n",
       "    <tr>\n",
       "      <th>0</th>\n",
       "      <td>Gender</td>\n",
       "      <td>Feature</td>\n",
       "      <td>Categorical</td>\n",
       "      <td>Gender</td>\n",
       "      <td>None</td>\n",
       "      <td>None</td>\n",
       "      <td>no</td>\n",
       "    </tr>\n",
       "    <tr>\n",
       "      <th>1</th>\n",
       "      <td>Age</td>\n",
       "      <td>Feature</td>\n",
       "      <td>Continuous</td>\n",
       "      <td>Age</td>\n",
       "      <td>None</td>\n",
       "      <td>None</td>\n",
       "      <td>no</td>\n",
       "    </tr>\n",
       "    <tr>\n",
       "      <th>2</th>\n",
       "      <td>Height</td>\n",
       "      <td>Feature</td>\n",
       "      <td>Continuous</td>\n",
       "      <td>None</td>\n",
       "      <td>None</td>\n",
       "      <td>None</td>\n",
       "      <td>no</td>\n",
       "    </tr>\n",
       "    <tr>\n",
       "      <th>3</th>\n",
       "      <td>Weight</td>\n",
       "      <td>Feature</td>\n",
       "      <td>Continuous</td>\n",
       "      <td>None</td>\n",
       "      <td>None</td>\n",
       "      <td>None</td>\n",
       "      <td>no</td>\n",
       "    </tr>\n",
       "    <tr>\n",
       "      <th>4</th>\n",
       "      <td>family_history_with_overweight</td>\n",
       "      <td>Feature</td>\n",
       "      <td>Binary</td>\n",
       "      <td>None</td>\n",
       "      <td>Has a family member suffered or suffers from o...</td>\n",
       "      <td>None</td>\n",
       "      <td>no</td>\n",
       "    </tr>\n",
       "    <tr>\n",
       "      <th>5</th>\n",
       "      <td>FAVC</td>\n",
       "      <td>Feature</td>\n",
       "      <td>Binary</td>\n",
       "      <td>None</td>\n",
       "      <td>Do you eat high caloric food frequently?</td>\n",
       "      <td>None</td>\n",
       "      <td>no</td>\n",
       "    </tr>\n",
       "    <tr>\n",
       "      <th>6</th>\n",
       "      <td>FCVC</td>\n",
       "      <td>Feature</td>\n",
       "      <td>Integer</td>\n",
       "      <td>None</td>\n",
       "      <td>Do you usually eat vegetables in your meals?</td>\n",
       "      <td>None</td>\n",
       "      <td>no</td>\n",
       "    </tr>\n",
       "    <tr>\n",
       "      <th>7</th>\n",
       "      <td>NCP</td>\n",
       "      <td>Feature</td>\n",
       "      <td>Continuous</td>\n",
       "      <td>None</td>\n",
       "      <td>How many main meals do you have daily?</td>\n",
       "      <td>None</td>\n",
       "      <td>no</td>\n",
       "    </tr>\n",
       "    <tr>\n",
       "      <th>8</th>\n",
       "      <td>CAEC</td>\n",
       "      <td>Feature</td>\n",
       "      <td>Categorical</td>\n",
       "      <td>None</td>\n",
       "      <td>Do you eat any food between meals?</td>\n",
       "      <td>None</td>\n",
       "      <td>no</td>\n",
       "    </tr>\n",
       "    <tr>\n",
       "      <th>9</th>\n",
       "      <td>SMOKE</td>\n",
       "      <td>Feature</td>\n",
       "      <td>Binary</td>\n",
       "      <td>None</td>\n",
       "      <td>Do you smoke?</td>\n",
       "      <td>None</td>\n",
       "      <td>no</td>\n",
       "    </tr>\n",
       "    <tr>\n",
       "      <th>10</th>\n",
       "      <td>CH2O</td>\n",
       "      <td>Feature</td>\n",
       "      <td>Continuous</td>\n",
       "      <td>None</td>\n",
       "      <td>How much water do you drink daily?</td>\n",
       "      <td>None</td>\n",
       "      <td>no</td>\n",
       "    </tr>\n",
       "    <tr>\n",
       "      <th>11</th>\n",
       "      <td>SCC</td>\n",
       "      <td>Feature</td>\n",
       "      <td>Binary</td>\n",
       "      <td>None</td>\n",
       "      <td>Do you monitor the calories you eat daily?</td>\n",
       "      <td>None</td>\n",
       "      <td>no</td>\n",
       "    </tr>\n",
       "    <tr>\n",
       "      <th>12</th>\n",
       "      <td>FAF</td>\n",
       "      <td>Feature</td>\n",
       "      <td>Continuous</td>\n",
       "      <td>None</td>\n",
       "      <td>How often do you have physical activity?</td>\n",
       "      <td>None</td>\n",
       "      <td>no</td>\n",
       "    </tr>\n",
       "    <tr>\n",
       "      <th>13</th>\n",
       "      <td>TUE</td>\n",
       "      <td>Feature</td>\n",
       "      <td>Integer</td>\n",
       "      <td>None</td>\n",
       "      <td>How much time do you use technological devices...</td>\n",
       "      <td>None</td>\n",
       "      <td>no</td>\n",
       "    </tr>\n",
       "    <tr>\n",
       "      <th>14</th>\n",
       "      <td>CALC</td>\n",
       "      <td>Feature</td>\n",
       "      <td>Categorical</td>\n",
       "      <td>None</td>\n",
       "      <td>How often do you drink alcohol?</td>\n",
       "      <td>None</td>\n",
       "      <td>no</td>\n",
       "    </tr>\n",
       "    <tr>\n",
       "      <th>15</th>\n",
       "      <td>MTRANS</td>\n",
       "      <td>Feature</td>\n",
       "      <td>Categorical</td>\n",
       "      <td>None</td>\n",
       "      <td>Which transportation do you usually use?</td>\n",
       "      <td>None</td>\n",
       "      <td>no</td>\n",
       "    </tr>\n",
       "    <tr>\n",
       "      <th>16</th>\n",
       "      <td>NObeyesdad</td>\n",
       "      <td>Target</td>\n",
       "      <td>Categorical</td>\n",
       "      <td>None</td>\n",
       "      <td>Obesity level</td>\n",
       "      <td>None</td>\n",
       "      <td>no</td>\n",
       "    </tr>\n",
       "  </tbody>\n",
       "</table>\n",
       "</div>"
      ],
      "text/plain": [
       "                              name     role         type demographic  \\\n",
       "0                           Gender  Feature  Categorical      Gender   \n",
       "1                              Age  Feature   Continuous         Age   \n",
       "2                           Height  Feature   Continuous        None   \n",
       "3                           Weight  Feature   Continuous        None   \n",
       "4   family_history_with_overweight  Feature       Binary        None   \n",
       "5                             FAVC  Feature       Binary        None   \n",
       "6                             FCVC  Feature      Integer        None   \n",
       "7                              NCP  Feature   Continuous        None   \n",
       "8                             CAEC  Feature  Categorical        None   \n",
       "9                            SMOKE  Feature       Binary        None   \n",
       "10                            CH2O  Feature   Continuous        None   \n",
       "11                             SCC  Feature       Binary        None   \n",
       "12                             FAF  Feature   Continuous        None   \n",
       "13                             TUE  Feature      Integer        None   \n",
       "14                            CALC  Feature  Categorical        None   \n",
       "15                          MTRANS  Feature  Categorical        None   \n",
       "16                      NObeyesdad   Target  Categorical        None   \n",
       "\n",
       "                                          description units missing_values  \n",
       "0                                                None  None             no  \n",
       "1                                                None  None             no  \n",
       "2                                                None  None             no  \n",
       "3                                                None  None             no  \n",
       "4   Has a family member suffered or suffers from o...  None             no  \n",
       "5            Do you eat high caloric food frequently?  None             no  \n",
       "6        Do you usually eat vegetables in your meals?  None             no  \n",
       "7              How many main meals do you have daily?  None             no  \n",
       "8                  Do you eat any food between meals?  None             no  \n",
       "9                                       Do you smoke?  None             no  \n",
       "10                 How much water do you drink daily?  None             no  \n",
       "11         Do you monitor the calories you eat daily?  None             no  \n",
       "12           How often do you have physical activity?  None             no  \n",
       "13  How much time do you use technological devices...  None             no  \n",
       "14                    How often do you drink alcohol?  None             no  \n",
       "15           Which transportation do you usually use?  None             no  \n",
       "16                                      Obesity level  None             no  "
      ]
     },
     "execution_count": 2,
     "metadata": {},
     "output_type": "execute_result"
    }
   ],
   "source": [
    "estimation_of_obesity_levels_based_on_eating_habits_and_physical_condition.variables"
   ]
  },
  {
   "cell_type": "code",
   "execution_count": 3,
   "metadata": {},
   "outputs": [
    {
     "data": {
      "text/plain": [
       "<Axes: ylabel='Frequency'>"
      ]
     },
     "execution_count": 3,
     "metadata": {},
     "output_type": "execute_result"
    },
    {
     "data": {
      "image/png": "[encoded data removed]",
      "text/plain": [
       "<Figure size 640x480 with 1 Axes>"
      ]
     },
     "metadata": {},
     "output_type": "display_data"
    }
   ],
   "source": [
    "X['FAF'].plot(kind='hist', bins=30, color='c', edgecolor='black', linewidth=1.2, alpha=0.5, label='NCP')"
   ]
  },
  {
   "cell_type": "code",
   "execution_count": 4,
   "metadata": {},
   "outputs": [
    {
     "data": {
      "text/plain": [
       "<Axes: xlabel='NObeyesdad'>"
      ]
     },
     "execution_count": 4,
     "metadata": {},
     "output_type": "execute_result"
    },
    {
     "data": {
      "image/png": "[encoded data removed]",
      "text/plain": [
       "<Figure size 640x480 with 1 Axes>"
      ]
     },
     "metadata": {},
     "output_type": "display_data"
    }
   ],
   "source": [
    "y.value_counts().plot(kind='bar', color='c', edgecolor='black', linewidth=1.2, alpha=0.5, label='NObeyesdad')"
   ]
  },
  {
   "cell_type": "code",
   "execution_count": 5,
   "metadata": {},
   "outputs": [],
   "source": [
    "#### Hagamos una taba para estudiar las variables\n",
    "\n",
    "import pandas as pd\n",
    "import numpy as np\n",
    "\n",
    "def describe_data(dataframe):\n",
    "    columnas = dataframe.columns\n",
    "    categorias = []\n",
    "    faltantes=[]\n",
    "    atipicos_iqr=[]\n",
    "    unicos=[]\n",
    "    minimo=[]\n",
    "    q1=[]\n",
    "    q2=[]\n",
    "    q3=[]\n",
    "    maximo=[]\n",
    "\n",
    "\n",
    "    for col in columnas:\n",
    "        categoria=dataframe[col].dtype\n",
    "        categorias.append(categoria)\n",
    "        faltante=dataframe[col].isna().sum()\n",
    "        faltantes.append(faltante)\n",
    "        unico=dataframe[col].nunique()\n",
    "        unicos.append(unico)\n",
    "        if categoria == 'int64' or categoria == 'float64':\n",
    "            q75, q25 = np.percentile(dataframe[col], [75 ,25])\n",
    "            iqr = q75 - q25\n",
    "            atipico = dataframe[(dataframe[col] < (q25 - 1.5 * iqr)) | (dataframe[col] > (q75 + 1.5 * iqr))].shape[0]\n",
    "            atipicos_iqr.append(atipico)\n",
    "            minimo.append(dataframe[col].min())\n",
    "            q1.append(dataframe[col].quantile(0.25))\n",
    "            q2.append(dataframe[col].quantile(0.5))\n",
    "            q3.append(dataframe[col].quantile(0.75))\n",
    "            maximo.append(dataframe[col].max())\n",
    "        else:\n",
    "            atipicos_iqr.append('No aplica')\n",
    "            minimo.append('No aplica')\n",
    "            q1.append('No aplica')\n",
    "            q2.append('No aplica')\n",
    "            q3.append('No aplica')\n",
    "            maximo.append('No aplica')\n",
    "\n",
    "    resumen = pd.DataFrame({'Variable':columnas, 'Categoria':categorias, 'Faltantes':faltantes, 'Valores_unicos':unicos, 'Minimo':minimo, 'Q1':q1, 'Q2':q2, 'Q3':q3, 'Maximo':maximo, 'Atipicos_iqr':atipicos_iqr})\n",
    "    return resumen\n",
    "        \n",
    "        \n",
    "\n"
   ]
  },
  {
   "cell_type": "code",
   "execution_count": 6,
   "metadata": {},
   "outputs": [],
   "source": [
    "describe_data(X).to_excel('resumen.xlsx', index=False)"
   ]
  },
  {
   "cell_type": "markdown",
   "metadata": {},
   "source": [
    "### Definición del tipo de variable"
   ]
  },
  {
   "cell_type": "code",
   "execution_count": 8,
   "metadata": {},
   "outputs": [],
   "source": [
    "Numerica = [\"Age\", \"Height\", \"Weight\", \"FCVC\",\"NCP\",\"CH2O\",\"TUE\"]\n",
    "Dummy = [\"Gender\", \"family_history_with_overweight\", \"FAVC\", \"SMOKE\", \"SCC\"]\n",
    "Ordinal = [\"CAEC\", \"FAF\", \"CALC\"]\n",
    "Nominal = [\"MTRANS\"]\n",
    "\n"
   ]
  },
  {
   "cell_type": "markdown",
   "metadata": {},
   "source": [
    "### Pipeline Numérica"
   ]
  },
  {
   "cell_type": "markdown",
   "metadata": {},
   "source": [
    "### Pipeline Dummy"
   ]
  },
  {
   "cell_type": "markdown",
   "metadata": {},
   "source": [
    "### Pipeline Ordinal"
   ]
  },
  {
   "cell_type": "markdown",
   "metadata": {},
   "source": [
    "### Pipeline Nominal"
   ]
  }
 ],
 "metadata": {
  "kernelspec": {
   "display_name": "base",
   "language": "python",
   "name": "python3"
  },
  "language_info": {
   "codemirror_mode": {
    "name": "ipython",
    "version": 3
   },
   "file_extension": ".py",
   "mimetype": "text/x-python",
   "name": "python",
   "nbconvert_exporter": "python",
   "pygments_lexer": "ipython3",
   "version": "3.10.9"
  }
 },
 "nbformat": 4,
 "nbformat_minor": 2
}

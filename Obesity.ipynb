{
 "cells": [
  {
   "cell_type": "markdown",
   "metadata": {},
   "source": [
    "Información de UCI\n",
    "\n",
    "UCI dataset_repository es el repostorio de datos de la Universidad de California Irvine, con los datasets más populares para el aprendizaje automático. \n",
    "\n",
    "Enlace: [UCI Machine Learning Repository](https://archive.ics.uci.edu/ml/index.php)"
   ]
  },
  {
   "cell_type": "code",
   "execution_count": 40,
   "metadata": {},
   "outputs": [],
   "source": [
    "from ucimlrepo import fetch_ucirepo, list_available_datasets\n"
   ]
  },
  {
   "cell_type": "code",
   "execution_count": 45,
   "metadata": {},
   "outputs": [
    {
     "data": {
      "text/plain": [
       "{'data': {'ids': None,\n",
       "  'features':       Gender        Age    Height      Weight family_history_with_overweight  \\\n",
       "  0     Female  21.000000  1.620000   64.000000                            yes   \n",
       "  1     Female  21.000000  1.520000   56.000000                            yes   \n",
       "  2       Male  23.000000  1.800000   77.000000                            yes   \n",
       "  3       Male  27.000000  1.800000   87.000000                             no   \n",
       "  4       Male  22.000000  1.780000   89.800000                             no   \n",
       "  ...      ...        ...       ...         ...                            ...   \n",
       "  2106  Female  20.976842  1.710730  131.408528                            yes   \n",
       "  2107  Female  21.982942  1.748584  133.742943                            yes   \n",
       "  2108  Female  22.524036  1.752206  133.689352                            yes   \n",
       "  2109  Female  24.361936  1.739450  133.346641                            yes   \n",
       "  2110  Female  23.664709  1.738836  133.472641                            yes   \n",
       "  \n",
       "       FAVC  FCVC  NCP       CAEC SMOKE      CH2O  SCC       FAF       TUE  \\\n",
       "  0      no   2.0  3.0  Sometimes    no  2.000000   no  0.000000  1.000000   \n",
       "  1      no   3.0  3.0  Sometimes   yes  3.000000  yes  3.000000  0.000000   \n",
       "  2      no   2.0  3.0  Sometimes    no  2.000000   no  2.000000  1.000000   \n",
       "  3      no   3.0  3.0  Sometimes    no  2.000000   no  2.000000  0.000000   \n",
       "  4      no   2.0  1.0  Sometimes    no  2.000000   no  0.000000  0.000000   \n",
       "  ...   ...   ...  ...        ...   ...       ...  ...       ...       ...   \n",
       "  2106  yes   3.0  3.0  Sometimes    no  1.728139   no  1.676269  0.906247   \n",
       "  2107  yes   3.0  3.0  Sometimes    no  2.005130   no  1.341390  0.599270   \n",
       "  2108  yes   3.0  3.0  Sometimes    no  2.054193   no  1.414209  0.646288   \n",
       "  2109  yes   3.0  3.0  Sometimes    no  2.852339   no  1.139107  0.586035   \n",
       "  2110  yes   3.0  3.0  Sometimes    no  2.863513   no  1.026452  0.714137   \n",
       "  \n",
       "              CALC                 MTRANS  \n",
       "  0             no  Public_Transportation  \n",
       "  1      Sometimes  Public_Transportation  \n",
       "  2     Frequently  Public_Transportation  \n",
       "  3     Frequently                Walking  \n",
       "  4      Sometimes  Public_Transportation  \n",
       "  ...          ...                    ...  \n",
       "  2106   Sometimes  Public_Transportation  \n",
       "  2107   Sometimes  Public_Transportation  \n",
       "  2108   Sometimes  Public_Transportation  \n",
       "  2109   Sometimes  Public_Transportation  \n",
       "  2110   Sometimes  Public_Transportation  \n",
       "  \n",
       "  [2111 rows x 16 columns],\n",
       "  'targets':                NObeyesdad\n",
       "  0           Normal_Weight\n",
       "  1           Normal_Weight\n",
       "  2           Normal_Weight\n",
       "  3      Overweight_Level_I\n",
       "  4     Overweight_Level_II\n",
       "  ...                   ...\n",
       "  2106     Obesity_Type_III\n",
       "  2107     Obesity_Type_III\n",
       "  2108     Obesity_Type_III\n",
       "  2109     Obesity_Type_III\n",
       "  2110     Obesity_Type_III\n",
       "  \n",
       "  [2111 rows x 1 columns],\n",
       "  'original':       Gender        Age    Height      Weight family_history_with_overweight  \\\n",
       "  0     Female  21.000000  1.620000   64.000000                            yes   \n",
       "  1     Female  21.000000  1.520000   56.000000                            yes   \n",
       "  2       Male  23.000000  1.800000   77.000000                            yes   \n",
       "  3       Male  27.000000  1.800000   87.000000                             no   \n",
       "  4       Male  22.000000  1.780000   89.800000                             no   \n",
       "  ...      ...        ...       ...         ...                            ...   \n",
       "  2106  Female  20.976842  1.710730  131.408528                            yes   \n",
       "  2107  Female  21.982942  1.748584  133.742943                            yes   \n",
       "  2108  Female  22.524036  1.752206  133.689352                            yes   \n",
       "  2109  Female  24.361936  1.739450  133.346641                            yes   \n",
       "  2110  Female  23.664709  1.738836  133.472641                            yes   \n",
       "  \n",
       "       FAVC  FCVC  NCP       CAEC SMOKE      CH2O  SCC       FAF       TUE  \\\n",
       "  0      no   2.0  3.0  Sometimes    no  2.000000   no  0.000000  1.000000   \n",
       "  1      no   3.0  3.0  Sometimes   yes  3.000000  yes  3.000000  0.000000   \n",
       "  2      no   2.0  3.0  Sometimes    no  2.000000   no  2.000000  1.000000   \n",
       "  3      no   3.0  3.0  Sometimes    no  2.000000   no  2.000000  0.000000   \n",
       "  4      no   2.0  1.0  Sometimes    no  2.000000   no  0.000000  0.000000   \n",
       "  ...   ...   ...  ...        ...   ...       ...  ...       ...       ...   \n",
       "  2106  yes   3.0  3.0  Sometimes    no  1.728139   no  1.676269  0.906247   \n",
       "  2107  yes   3.0  3.0  Sometimes    no  2.005130   no  1.341390  0.599270   \n",
       "  2108  yes   3.0  3.0  Sometimes    no  2.054193   no  1.414209  0.646288   \n",
       "  2109  yes   3.0  3.0  Sometimes    no  2.852339   no  1.139107  0.586035   \n",
       "  2110  yes   3.0  3.0  Sometimes    no  2.863513   no  1.026452  0.714137   \n",
       "  \n",
       "              CALC                 MTRANS           NObeyesdad  \n",
       "  0             no  Public_Transportation        Normal_Weight  \n",
       "  1      Sometimes  Public_Transportation        Normal_Weight  \n",
       "  2     Frequently  Public_Transportation        Normal_Weight  \n",
       "  3     Frequently                Walking   Overweight_Level_I  \n",
       "  4      Sometimes  Public_Transportation  Overweight_Level_II  \n",
       "  ...          ...                    ...                  ...  \n",
       "  2106   Sometimes  Public_Transportation     Obesity_Type_III  \n",
       "  2107   Sometimes  Public_Transportation     Obesity_Type_III  \n",
       "  2108   Sometimes  Public_Transportation     Obesity_Type_III  \n",
       "  2109   Sometimes  Public_Transportation     Obesity_Type_III  \n",
       "  2110   Sometimes  Public_Transportation     Obesity_Type_III  \n",
       "  \n",
       "  [2111 rows x 17 columns],\n",
       "  'headers': Index(['Gender', 'Age', 'Height', 'Weight', 'family_history_with_overweight',\n",
       "         'FAVC', 'FCVC', 'NCP', 'CAEC', 'SMOKE', 'CH2O', 'SCC', 'FAF', 'TUE',\n",
       "         'CALC', 'MTRANS', 'NObeyesdad'],\n",
       "        dtype='object')},\n",
       " 'metadata': {'uci_id': 544,\n",
       "  'name': 'Estimation of obesity levels based on eating habits and physical condition ',\n",
       "  'repository_url': 'https://archive.ics.uci.edu/dataset/544/estimation+of+obesity+levels+based+on+eating+habits+and+physical+condition',\n",
       "  'data_url': 'https://archive.ics.uci.edu/static/public/544/data.csv',\n",
       "  'abstract': 'This dataset include data for the estimation of obesity levels in individuals from the countries of Mexico, Peru and Colombia, based on their eating habits and physical condition. ',\n",
       "  'area': 'Health and Medicine',\n",
       "  'tasks': ['Classification', 'Regression', 'Clustering'],\n",
       "  'characteristics': ['Multivariate'],\n",
       "  'num_instances': 2111,\n",
       "  'num_features': 16,\n",
       "  'feature_types': ['Integer'],\n",
       "  'demographics': ['Gender', 'Age'],\n",
       "  'target_col': ['NObeyesdad'],\n",
       "  'index_col': None,\n",
       "  'has_missing_values': 'no',\n",
       "  'missing_values_symbol': None,\n",
       "  'year_of_dataset_creation': 2019,\n",
       "  'last_updated': 'Tue Dec 19 2023',\n",
       "  'dataset_doi': '10.24432/C5H31Z',\n",
       "  'creators': [],\n",
       "  'intro_paper': {'title': 'Dataset for estimation of obesity levels based on eating habits and physical condition in individuals from Colombia, Peru and Mexico',\n",
       "   'authors': 'Fabio Mendoza Palechor, Alexis De la Hoz Manotas',\n",
       "   'published_in': 'Data in Brief',\n",
       "   'year': 2019,\n",
       "   'url': 'https://www.semanticscholar.org/paper/35b40bacd2ffa9370885b7a3004d88995fd1d011',\n",
       "   'doi': '10.1016/j.dib.2019.104344'},\n",
       "  'additional_info': {'summary': 'This dataset include data for the estimation of obesity levels in individuals from the countries of Mexico, Peru and Colombia, based on their eating habits and physical condition. The data contains 17 attributes and 2111 records, the records are labeled with the class variable NObesity (Obesity Level), that allows classification of the data using the values of Insufficient Weight, Normal Weight, Overweight Level I, Overweight Level II, Obesity Type I, Obesity Type II and Obesity Type III. 77% of the data was generated synthetically using the Weka tool and the SMOTE filter, 23% of the data was collected directly from users through a web platform.',\n",
       "   'purpose': None,\n",
       "   'funded_by': None,\n",
       "   'instances_represent': None,\n",
       "   'recommended_data_splits': None,\n",
       "   'sensitive_data': None,\n",
       "   'preprocessing_description': None,\n",
       "   'variable_info': 'Read the article (https://doi.org/10.1016/j.dib.2019.104344) to see the description of the attributes.',\n",
       "   'citation': None}},\n",
       " 'variables':                               name     role         type demographic  \\\n",
       " 0                           Gender  Feature  Categorical      Gender   \n",
       " 1                              Age  Feature   Continuous         Age   \n",
       " 2                           Height  Feature   Continuous        None   \n",
       " 3                           Weight  Feature   Continuous        None   \n",
       " 4   family_history_with_overweight  Feature       Binary        None   \n",
       " 5                             FAVC  Feature       Binary        None   \n",
       " 6                             FCVC  Feature      Integer        None   \n",
       " 7                              NCP  Feature   Continuous        None   \n",
       " 8                             CAEC  Feature  Categorical        None   \n",
       " 9                            SMOKE  Feature       Binary        None   \n",
       " 10                            CH2O  Feature   Continuous        None   \n",
       " 11                             SCC  Feature       Binary        None   \n",
       " 12                             FAF  Feature   Continuous        None   \n",
       " 13                             TUE  Feature      Integer        None   \n",
       " 14                            CALC  Feature  Categorical        None   \n",
       " 15                          MTRANS  Feature  Categorical        None   \n",
       " 16                      NObeyesdad   Target  Categorical        None   \n",
       " \n",
       "                                           description units missing_values  \n",
       " 0                                                None  None             no  \n",
       " 1                                                None  None             no  \n",
       " 2                                                None  None             no  \n",
       " 3                                                None  None             no  \n",
       " 4   Has a family member suffered or suffers from o...  None             no  \n",
       " 5            Do you eat high caloric food frequently?  None             no  \n",
       " 6        Do you usually eat vegetables in your meals?  None             no  \n",
       " 7              How many main meals do you have daily?  None             no  \n",
       " 8                  Do you eat any food between meals?  None             no  \n",
       " 9                                       Do you smoke?  None             no  \n",
       " 10                 How much water do you drink daily?  None             no  \n",
       " 11         Do you monitor the calories you eat daily?  None             no  \n",
       " 12           How often do you have physical activity?  None             no  \n",
       " 13  How much time do you use technological devices...  None             no  \n",
       " 14                    How often do you drink alcohol?  None             no  \n",
       " 15           Which transportation do you usually use?  None             no  \n",
       " 16                                      Obesity level  None             no  }"
      ]
     },
     "execution_count": 45,
     "metadata": {},
     "output_type": "execute_result"
    }
   ],
   "source": [
    "Obesity = fetch_ucirepo(id=544)\n",
    "X = Obesity.data.features\n",
    "y = Obesity.data.targets\n",
    "Obesity"
   ]
  },
  {
   "cell_type": "code",
   "execution_count": 39,
   "metadata": {},
   "outputs": [
    {
     "name": "stdout",
     "output_type": "stream",
     "text": [
      "Cantidad de Filas y columnas: (2111, 17)\n",
      "Nombre columnas: Index(['Gender', 'Age', 'Height', 'Weight', 'family_history_with_overweight',\n",
      "       'FAVC', 'FCVC', 'NCP', 'CAEC', 'SMOKE', 'CH2O', 'SCC', 'FAF', 'TUE',\n",
      "       'CALC', 'MTRANS', 'NObeyesdad'],\n",
      "      dtype='object')\n"
     ]
    }
   ],
   "source": [
    "print('Cantidad de Filas y columnas:',df.shape)\n",
    "print('Nombre columnas:',df.columns)"
   ]
  },
  {
   "cell_type": "code",
   "execution_count": 49,
   "metadata": {},
   "outputs": [
    {
     "name": "stdout",
     "output_type": "stream",
     "text": [
      "<class 'pandas.core.frame.DataFrame'>\n",
      "RangeIndex: 2111 entries, 0 to 2110\n",
      "Data columns (total 17 columns):\n",
      " #   Column                          Non-Null Count  Dtype  \n",
      "---  ------                          --------------  -----  \n",
      " 0   Gender                          2111 non-null   object \n",
      " 1   Age                             2111 non-null   float64\n",
      " 2   Height                          2111 non-null   float64\n",
      " 3   Weight                          2111 non-null   float64\n",
      " 4   family_history_with_overweight  2111 non-null   object \n",
      " 5   FAVC                            2111 non-null   object \n",
      " 6   FCVC                            2111 non-null   float64\n",
      " 7   NCP                             2111 non-null   float64\n",
      " 8   CAEC                            2111 non-null   object \n",
      " 9   SMOKE                           2111 non-null   object \n",
      " 10  CH2O                            2111 non-null   float64\n",
      " 11  SCC                             2111 non-null   object \n",
      " 12  FAF                             2111 non-null   float64\n",
      " 13  TUE                             2111 non-null   float64\n",
      " 14  CALC                            2111 non-null   object \n",
      " 15  MTRANS                          2111 non-null   object \n",
      " 16  NObeyesdad                      2111 non-null   object \n",
      "dtypes: float64(8), object(9)\n",
      "memory usage: 280.5+ KB\n"
     ]
    }
   ],
   "source": [
    "df.info()"
   ]
  },
  {
   "cell_type": "markdown",
   "metadata": {},
   "source": [
    "# Tipos de variables "
   ]
  },
  {
   "cell_type": "code",
   "execution_count": 54,
   "metadata": {},
   "outputs": [
    {
     "data": {
      "text/plain": [
       "0       21\n",
       "1       21\n",
       "2       23\n",
       "3       27\n",
       "4       22\n",
       "        ..\n",
       "2106    20\n",
       "2107    21\n",
       "2108    22\n",
       "2109    24\n",
       "2110    23\n",
       "Name: Age, Length: 2111, dtype: int32"
      ]
     },
     "execution_count": 54,
     "metadata": {},
     "output_type": "execute_result"
    }
   ],
   "source": [
    "# Númericas\n",
    "df['Age']=df['Age'].astype(int)\n",
    "df['Age']"
   ]
  },
  {
   "cell_type": "code",
   "execution_count": null,
   "metadata": {},
   "outputs": [],
   "source": []
  }
 ],
 "metadata": {
  "kernelspec": {
   "display_name": "base",
   "language": "python",
   "name": "python3"
  },
  "language_info": {
   "codemirror_mode": {
    "name": "ipython",
    "version": 3
   },
   "file_extension": ".py",
   "mimetype": "text/x-python",
   "name": "python",
   "nbconvert_exporter": "python",
   "pygments_lexer": "ipython3",
   "version": "3.10.9"
  }
 },
 "nbformat": 4,
 "nbformat_minor": 2
}
